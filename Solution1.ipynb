{
  "nbformat": 4,
  "nbformat_minor": 0,
  "metadata": {
    "colab": {
      "name": "Solution1.ipynb",
      "provenance": [],
      "collapsed_sections": [],
      "include_colab_link": true
    },
    "kernelspec": {
      "name": "python3",
      "display_name": "Python 3"
    }
  },
  "cells": [
    {
      "cell_type": "markdown",
      "metadata": {
        "id": "view-in-github",
        "colab_type": "text"
      },
      "source": [
        "<a href=\"https://colab.research.google.com/github/kangqiwang/Python_exercise/blob/master/Solution1.ipynb\" target=\"_parent\"><img src=\"https://colab.research.google.com/assets/colab-badge.svg\" alt=\"Open In Colab\"/></a>"
      ]
    },
    {
      "cell_type": "code",
      "metadata": {
        "id": "ED5yUjYnzMX0",
        "colab_type": "code",
        "colab": {}
      },
      "source": [
        "\n",
        "'''\n",
        "Chapet 1 Arrays and Strings\n",
        "'''\n",
        "# Is Unique\n",
        "# Implement an algortithm to determine if a string has all unique characters. what if you cannot use additional data structures?\n",
        "'''\n",
        "1 .ask HR the string is ASCII String or a Unicode String \n",
        "standard ASCII 128\n",
        "Extend ASCII 256\n",
        "'''\n",
        "def isUniqueChars(strs):\n",
        "  if(len(strs) > 128):\n",
        "    return False\n",
        "  char_set=[False]*128\n",
        "  for i in strs:\n",
        "    val = ord(i)\n",
        "    if char_set[val]:\n",
        "      return False\n",
        "    char_set[val]=True\n",
        "  return True\n",
        "\n",
        "strs=\"AT\"\n",
        "isUniqueChars(strs)\n",
        "\n",
        "# Check Permutation\n",
        "# Given two Strings, writes a method to decide if one is a permutation of the other\n",
        "\n",
        "'''\n",
        "1. if the permutation comparision is case sensitive\n",
        "2. if whitespace is significant\n",
        "'''\n",
        "def permutation(s1,s2):\n",
        "  print(\"\".join(sorted(s1)))\n",
        "  print(sorted(s1))\n",
        "  print(sorted(s2))\n",
        "  if \"\".join(sorted(s1))==\"\".join(sorted(s2)):\n",
        "    return True\n",
        "  else:\n",
        "    return False\n",
        "  \n",
        "permutation(\"god\",\"dog\")"
      ],
      "execution_count": 0,
      "outputs": []
    }
  ]
}